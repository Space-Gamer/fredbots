{
 "cells": [
  {
   "cell_type": "code",
   "execution_count": 1,
   "metadata": {},
   "outputs": [
    {
     "name": "stderr",
     "output_type": "stream",
     "text": [
      "2023-07-19 12:08:13.657839: I tensorflow/tsl/cuda/cudart_stub.cc:28] Could not find cuda drivers on your machine, GPU will not be used.\n",
      "2023-07-19 12:08:14.213525: I tensorflow/tsl/cuda/cudart_stub.cc:28] Could not find cuda drivers on your machine, GPU will not be used.\n",
      "2023-07-19 12:08:14.218603: I tensorflow/core/platform/cpu_feature_guard.cc:182] This TensorFlow binary is optimized to use available CPU instructions in performance-critical operations.\n",
      "To enable the following instructions: AVX2 FMA, in other operations, rebuild TensorFlow with the appropriate compiler flags.\n",
      "2023-07-19 12:08:16.171079: W tensorflow/compiler/tf2tensorrt/utils/py_utils.cc:38] TF-TRT Warning: Could not find TensorRT\n"
     ]
    }
   ],
   "source": [
    "import numpy as np\n",
    "import tensorflow as tf\n",
    "from tensorflow.keras.models import Sequential, load_model\n",
    "from tensorflow.keras.layers import Dense\n",
    "from tensorflow.keras.optimizers import Adam"
   ]
  },
  {
   "cell_type": "code",
   "execution_count": 2,
   "metadata": {},
   "outputs": [],
   "source": [
    "# Define the Q-Network model\n",
    "def create_q_network(input_shape, action_space):\n",
    "    model = Sequential(\n",
    "        [\n",
    "            tf.keras.Input(shape=input_shape),\n",
    "            Dense(32, activation='relu'),\n",
    "            Dense(32, activation='relu'),\n",
    "            Dense(action_space, activation='linear')\n",
    "        ]\n",
    "    )\n",
    "    model.compile(loss='mse', optimizer=Adam(learning_rate=0.001))\n",
    "    return model"
   ]
  },
  {
   "cell_type": "code",
   "execution_count": 3,
   "metadata": {},
   "outputs": [],
   "source": [
    "class ENV():\n",
    "    def __init__(self):\n",
    "        self.steps = 0\n",
    "        self.env_col = 11\n",
    "        self.env_row = 11\n",
    "        self.state = (5, 5)\n",
    "        self.action_space = 4\n",
    "        self.reward = 0\n",
    "        self.done = False\n",
    "        self.goal = (1, 1)\n",
    "\n",
    "    def reset(self):\n",
    "        self.state = np.random.randint(0, min(self.env_col, self.env_row), size=2)\n",
    "        self.reward = 0\n",
    "        self.done = False\n",
    "        self.steps = 0\n",
    "        return self.state\n",
    "    \n",
    "    def step(self, action):\n",
    "        self.steps += 1\n",
    "        if action == 0: # up\n",
    "            self.state = (self.state[0], self.state[1] + 1)\n",
    "        elif action == 1: # down\n",
    "            self.state = (self.state[0], self.state[1] - 1)\n",
    "        elif action == 2: # left\n",
    "            self.state = (self.state[0] - 1, self.state[1])\n",
    "        elif action == 3: # right\n",
    "            self.state = (self.state[0] + 1, self.state[1])\n",
    "        else:\n",
    "            raise ValueError(\"Invalid action\")\n",
    "        if self.state == self.goal:\n",
    "            self.reward = 100\n",
    "            self.done = True\n",
    "        elif self.state[0] < 0 or self.state[0] >= self.env_col or self.state[1] < 0 or self.state[1] >= self.env_row:\n",
    "            self.reward = -100\n",
    "            self.done = True\n",
    "        elif self.steps >= 50:\n",
    "            self.reward = -100\n",
    "            self.done = True\n",
    "        else:\n",
    "            self.reward = -1\n",
    "        return self.state, self.reward, self.done\n"
   ]
  },
  {
   "cell_type": "code",
   "execution_count": 7,
   "metadata": {},
   "outputs": [],
   "source": [
    "#Define the DQN agent\n",
    "class DQNAgent:\n",
    "    def __init__(self, state_shape, action_space):\n",
    "        self.state_shape = state_shape\n",
    "        self.action_space = action_space\n",
    "        self.memory = []\n",
    "        self.gamma = 0.95  # Discount factor\n",
    "        self.epsilon = 0.9  # Exploration rate\n",
    "        self.epsilon_decay = 0.995  # Decay rate for exploration rate\n",
    "        self.epsilon_min = 0.01  # Minimum exploration rate\n",
    "        self.model = create_q_network(state_shape, action_space)\n",
    "\n",
    "    def remember(self, state, action, reward, next_state, done):\n",
    "        self.memory.append((state, action, reward, next_state, done))\n",
    "\n",
    "    def act(self, state):\n",
    "        if np.random.rand() < self.epsilon:\n",
    "            return np.random.choice(self.action_space)\n",
    "        # print(\"state in action: \",state)\n",
    "        state = np.reshape(state, self.state_shape)\n",
    "        print(\"prinintg rereshaped state: \", state)\n",
    "        state = tf.convert_to_tensor(state)\n",
    "        state = tf.expand_dims(state, 0)\n",
    "        print(\"Predicting\")\n",
    "        q_values = self.model.predict(state)\n",
    "        return np.argmax(q_values[0])\n",
    "\n",
    "    def replay(self, batch_size):\n",
    "        if len(self.memory) < batch_size:\n",
    "            return\n",
    "        # Debug\n",
    "        # print(self.memory)\n",
    "        # batch = np.random.choice(self.memory, batch_size, replace=False)\n",
    "        batch_ch = np.random.choice(len(self.memory), batch_size, replace=False)\n",
    "        batch = [self.memory[i] for i in batch_ch]\n",
    "        for state, action, reward, next_state, done in batch:\n",
    "            state = np.reshape(state, self.state_shape)\n",
    "            next_state = np.reshape(next_state, self.state_shape)\n",
    "            target = reward\n",
    "            if not done:\n",
    "                # print(next_state.shape)\n",
    "                next_state = tf.convert_to_tensor(next_state)\n",
    "                next_state = tf.expand_dims(next_state, 0)\n",
    "                target = reward + self.gamma * np.amax(self.model.predict(next_state)[0])\n",
    "            # print(state.shape)\n",
    "            state = tf.convert_to_tensor(state)\n",
    "            state = tf.expand_dims(state, 0)\n",
    "            print(\"Predicting\")\n",
    "            target_f = self.model.predict(state)\n",
    "            target_f[0][action] = target\n",
    "            # print(state[0], state[1])\n",
    "            print(\"Fitting model\")\n",
    "            self.model.fit(state, target_f, epochs=1, verbose=0)\n",
    "        if self.epsilon > self.epsilon_min:\n",
    "            self.epsilon *= self.epsilon_decay\n"
   ]
  },
  {
   "cell_type": "code",
   "execution_count": 8,
   "metadata": {},
   "outputs": [],
   "source": [
    "# Initialize the environment and agent\n",
    "state_shape = (2,)  # Example state shape, adjust according to your actual state representation # Only x and y coordinates\n",
    "action_space = 4  # Example action space size, adjust according to your actual actions # 4 actions: up, down, left, right\n",
    "agent = DQNAgent(state_shape, action_space)\n",
    "env = ENV()"
   ]
  },
  {
   "cell_type": "code",
   "execution_count": 10,
   "metadata": {},
   "outputs": [
    {
     "name": "stdout",
     "output_type": "stream",
     "text": [
      "Episode:  0\n",
      "prinintg no shaped:  [0 6]\n",
      "prinintg reshaped state:  [0 6]\n",
      "prinintg rereshaped state:  [0 6]\n",
      "Predicting\n",
      "1/1 [==============================] - 0s 440ms/step\n",
      "1/1 [==============================] - 1s 694ms/step\n",
      "Predicting\n"
     ]
    },
    {
     "name": "stdout",
     "output_type": "stream",
     "text": [
      "1/1 [==============================] - 1s 929ms/step\n",
      "Fitting model\n",
      "1/1 [==============================] - 1s 1s/step\n",
      "Predicting\n",
      "1/1 [==============================] - 2s 2s/step\n",
      "Fitting model\n",
      "Predicting\n"
     ]
    },
    {
     "ename": "KeyboardInterrupt",
     "evalue": "",
     "output_type": "error",
     "traceback": [
      "\u001b[0;31m---------------------------------------------------------------------------\u001b[0m",
      "\u001b[0;31mKeyboardInterrupt\u001b[0m                         Traceback (most recent call last)",
      "Cell \u001b[0;32mIn[10], line 21\u001b[0m\n\u001b[1;32m     19\u001b[0m     episode_reward \u001b[39m+\u001b[39m\u001b[39m=\u001b[39m reward\n\u001b[1;32m     20\u001b[0m     \u001b[39mif\u001b[39;00m \u001b[39mlen\u001b[39m(agent\u001b[39m.\u001b[39mmemory) \u001b[39m>\u001b[39m batch_size:\n\u001b[0;32m---> 21\u001b[0m         agent\u001b[39m.\u001b[39;49mreplay(batch_size)\n\u001b[1;32m     22\u001b[0m total_reward\u001b[39m.\u001b[39mappend(episode_reward)\n",
      "Cell \u001b[0;32mIn[7], line 49\u001b[0m, in \u001b[0;36mDQNAgent.replay\u001b[0;34m(self, batch_size)\u001b[0m\n\u001b[1;32m     47\u001b[0m state \u001b[39m=\u001b[39m tf\u001b[39m.\u001b[39mexpand_dims(state, \u001b[39m0\u001b[39m)\n\u001b[1;32m     48\u001b[0m \u001b[39mprint\u001b[39m(\u001b[39m\"\u001b[39m\u001b[39mPredicting\u001b[39m\u001b[39m\"\u001b[39m)\n\u001b[0;32m---> 49\u001b[0m target_f \u001b[39m=\u001b[39m \u001b[39mself\u001b[39;49m\u001b[39m.\u001b[39;49mmodel\u001b[39m.\u001b[39;49mpredict(state)\n\u001b[1;32m     50\u001b[0m target_f[\u001b[39m0\u001b[39m][action] \u001b[39m=\u001b[39m target\n\u001b[1;32m     51\u001b[0m \u001b[39m# print(state[0], state[1])\u001b[39;00m\n",
      "File \u001b[0;32m~/.local/lib/python3.8/site-packages/keras/utils/traceback_utils.py:65\u001b[0m, in \u001b[0;36mfilter_traceback.<locals>.error_handler\u001b[0;34m(*args, **kwargs)\u001b[0m\n\u001b[1;32m     63\u001b[0m filtered_tb \u001b[39m=\u001b[39m \u001b[39mNone\u001b[39;00m\n\u001b[1;32m     64\u001b[0m \u001b[39mtry\u001b[39;00m:\n\u001b[0;32m---> 65\u001b[0m     \u001b[39mreturn\u001b[39;00m fn(\u001b[39m*\u001b[39;49margs, \u001b[39m*\u001b[39;49m\u001b[39m*\u001b[39;49mkwargs)\n\u001b[1;32m     66\u001b[0m \u001b[39mexcept\u001b[39;00m \u001b[39mException\u001b[39;00m \u001b[39mas\u001b[39;00m e:\n\u001b[1;32m     67\u001b[0m     filtered_tb \u001b[39m=\u001b[39m _process_traceback_frames(e\u001b[39m.\u001b[39m__traceback__)\n",
      "File \u001b[0;32m~/.local/lib/python3.8/site-packages/keras/engine/training.py:2382\u001b[0m, in \u001b[0;36mModel.predict\u001b[0;34m(self, x, batch_size, verbose, steps, callbacks, max_queue_size, workers, use_multiprocessing)\u001b[0m\n\u001b[1;32m   2380\u001b[0m \u001b[39mfor\u001b[39;00m step \u001b[39min\u001b[39;00m data_handler\u001b[39m.\u001b[39msteps():\n\u001b[1;32m   2381\u001b[0m     callbacks\u001b[39m.\u001b[39mon_predict_batch_begin(step)\n\u001b[0;32m-> 2382\u001b[0m     tmp_batch_outputs \u001b[39m=\u001b[39m \u001b[39mself\u001b[39;49m\u001b[39m.\u001b[39;49mpredict_function(iterator)\n\u001b[1;32m   2383\u001b[0m     \u001b[39mif\u001b[39;00m data_handler\u001b[39m.\u001b[39mshould_sync:\n\u001b[1;32m   2384\u001b[0m         context\u001b[39m.\u001b[39masync_wait()\n",
      "File \u001b[0;32m/usr/local/lib/python3.8/dist-packages/tensorflow/python/util/traceback_utils.py:150\u001b[0m, in \u001b[0;36mfilter_traceback.<locals>.error_handler\u001b[0;34m(*args, **kwargs)\u001b[0m\n\u001b[1;32m    148\u001b[0m filtered_tb \u001b[39m=\u001b[39m \u001b[39mNone\u001b[39;00m\n\u001b[1;32m    149\u001b[0m \u001b[39mtry\u001b[39;00m:\n\u001b[0;32m--> 150\u001b[0m   \u001b[39mreturn\u001b[39;00m fn(\u001b[39m*\u001b[39;49margs, \u001b[39m*\u001b[39;49m\u001b[39m*\u001b[39;49mkwargs)\n\u001b[1;32m    151\u001b[0m \u001b[39mexcept\u001b[39;00m \u001b[39mException\u001b[39;00m \u001b[39mas\u001b[39;00m e:\n\u001b[1;32m    152\u001b[0m   filtered_tb \u001b[39m=\u001b[39m _process_traceback_frames(e\u001b[39m.\u001b[39m__traceback__)\n",
      "File \u001b[0;32m/usr/local/lib/python3.8/dist-packages/tensorflow/python/eager/polymorphic_function/polymorphic_function.py:894\u001b[0m, in \u001b[0;36mFunction.__call__\u001b[0;34m(self, *args, **kwds)\u001b[0m\n\u001b[1;32m    891\u001b[0m compiler \u001b[39m=\u001b[39m \u001b[39m\"\u001b[39m\u001b[39mxla\u001b[39m\u001b[39m\"\u001b[39m \u001b[39mif\u001b[39;00m \u001b[39mself\u001b[39m\u001b[39m.\u001b[39m_jit_compile \u001b[39melse\u001b[39;00m \u001b[39m\"\u001b[39m\u001b[39mnonXla\u001b[39m\u001b[39m\"\u001b[39m\n\u001b[1;32m    893\u001b[0m \u001b[39mwith\u001b[39;00m OptionalXlaContext(\u001b[39mself\u001b[39m\u001b[39m.\u001b[39m_jit_compile):\n\u001b[0;32m--> 894\u001b[0m   result \u001b[39m=\u001b[39m \u001b[39mself\u001b[39;49m\u001b[39m.\u001b[39;49m_call(\u001b[39m*\u001b[39;49margs, \u001b[39m*\u001b[39;49m\u001b[39m*\u001b[39;49mkwds)\n\u001b[1;32m    896\u001b[0m new_tracing_count \u001b[39m=\u001b[39m \u001b[39mself\u001b[39m\u001b[39m.\u001b[39mexperimental_get_tracing_count()\n\u001b[1;32m    897\u001b[0m without_tracing \u001b[39m=\u001b[39m (tracing_count \u001b[39m==\u001b[39m new_tracing_count)\n",
      "File \u001b[0;32m/usr/local/lib/python3.8/dist-packages/tensorflow/python/eager/polymorphic_function/polymorphic_function.py:933\u001b[0m, in \u001b[0;36mFunction._call\u001b[0;34m(self, *args, **kwds)\u001b[0m\n\u001b[1;32m    930\u001b[0m \u001b[39mself\u001b[39m\u001b[39m.\u001b[39m_lock\u001b[39m.\u001b[39mrelease()\n\u001b[1;32m    931\u001b[0m \u001b[39m# In this case we have not created variables on the first call. So we can\u001b[39;00m\n\u001b[1;32m    932\u001b[0m \u001b[39m# run the first trace but we should fail if variables are created.\u001b[39;00m\n\u001b[0;32m--> 933\u001b[0m results \u001b[39m=\u001b[39m \u001b[39mself\u001b[39;49m\u001b[39m.\u001b[39;49m_variable_creation_fn(\u001b[39m*\u001b[39;49margs, \u001b[39m*\u001b[39;49m\u001b[39m*\u001b[39;49mkwds)\n\u001b[1;32m    934\u001b[0m \u001b[39mif\u001b[39;00m \u001b[39mself\u001b[39m\u001b[39m.\u001b[39m_created_variables \u001b[39mand\u001b[39;00m \u001b[39mnot\u001b[39;00m ALLOW_DYNAMIC_VARIABLE_CREATION:\n\u001b[1;32m    935\u001b[0m   \u001b[39mraise\u001b[39;00m \u001b[39mValueError\u001b[39;00m(\u001b[39m\"\u001b[39m\u001b[39mCreating variables on a non-first call to a function\u001b[39m\u001b[39m\"\u001b[39m\n\u001b[1;32m    936\u001b[0m                    \u001b[39m\"\u001b[39m\u001b[39m decorated with tf.function.\u001b[39m\u001b[39m\"\u001b[39m)\n",
      "File \u001b[0;32m/usr/local/lib/python3.8/dist-packages/tensorflow/python/eager/polymorphic_function/tracing_compiler.py:142\u001b[0m, in \u001b[0;36mTracingCompiler.__call__\u001b[0;34m(self, *args, **kwargs)\u001b[0m\n\u001b[1;32m    139\u001b[0m \u001b[39m\u001b[39m\u001b[39m\"\"\"Calls a graph function specialized to the inputs.\"\"\"\u001b[39;00m\n\u001b[1;32m    140\u001b[0m \u001b[39mwith\u001b[39;00m \u001b[39mself\u001b[39m\u001b[39m.\u001b[39m_lock:\n\u001b[1;32m    141\u001b[0m   (concrete_function,\n\u001b[0;32m--> 142\u001b[0m    filtered_flat_args) \u001b[39m=\u001b[39m \u001b[39mself\u001b[39;49m\u001b[39m.\u001b[39;49m_maybe_define_function(args, kwargs)\n\u001b[1;32m    143\u001b[0m \u001b[39mreturn\u001b[39;00m concrete_function\u001b[39m.\u001b[39m_call_flat(\n\u001b[1;32m    144\u001b[0m     filtered_flat_args, captured_inputs\u001b[39m=\u001b[39mconcrete_function\u001b[39m.\u001b[39mcaptured_inputs)\n",
      "File \u001b[0;32m/usr/local/lib/python3.8/dist-packages/tensorflow/python/eager/polymorphic_function/tracing_compiler.py:342\u001b[0m, in \u001b[0;36mTracingCompiler._maybe_define_function\u001b[0;34m(self, args, kwargs)\u001b[0m\n\u001b[1;32m    321\u001b[0m \u001b[39mdef\u001b[39;00m \u001b[39m_maybe_define_function\u001b[39m(\u001b[39mself\u001b[39m, args, kwargs):\n\u001b[1;32m    322\u001b[0m \u001b[39m  \u001b[39m\u001b[39m\"\"\"Gets a function for these inputs, defining it if necessary.\u001b[39;00m\n\u001b[1;32m    323\u001b[0m \n\u001b[1;32m    324\u001b[0m \u001b[39m  Caller must hold self._lock.\u001b[39;00m\n\u001b[0;32m   (...)\u001b[0m\n\u001b[1;32m    339\u001b[0m \u001b[39m      shape relaxation retracing.\u001b[39;00m\n\u001b[1;32m    340\u001b[0m \u001b[39m  \"\"\"\u001b[39;00m\n\u001b[1;32m    341\u001b[0m   args, kwargs, filtered_flat_args \u001b[39m=\u001b[39m (\n\u001b[0;32m--> 342\u001b[0m       \u001b[39mself\u001b[39;49m\u001b[39m.\u001b[39;49m_function_spec\u001b[39m.\u001b[39;49mcanonicalize_function_inputs(args, kwargs))\n\u001b[1;32m    344\u001b[0m   \u001b[39mif\u001b[39;00m \u001b[39mself\u001b[39m\u001b[39m.\u001b[39minput_signature \u001b[39mis\u001b[39;00m \u001b[39mnot\u001b[39;00m \u001b[39mNone\u001b[39;00m:\n\u001b[1;32m    345\u001b[0m     args \u001b[39m=\u001b[39m (\u001b[39m*\u001b[39m\u001b[39mself\u001b[39m\u001b[39m.\u001b[39minput_signature, \u001b[39m*\u001b[39margs[\u001b[39mlen\u001b[39m(\u001b[39mself\u001b[39m\u001b[39m.\u001b[39minput_signature):])\n",
      "File \u001b[0;32m/usr/local/lib/python3.8/dist-packages/tensorflow/python/eager/polymorphic_function/function_spec.py:407\u001b[0m, in \u001b[0;36mFunctionSpec.canonicalize_function_inputs\u001b[0;34m(self, args, kwargs)\u001b[0m\n\u001b[1;32m    405\u001b[0m \u001b[39mif\u001b[39;00m \u001b[39mself\u001b[39m\u001b[39m.\u001b[39mis_pure:\n\u001b[1;32m    406\u001b[0m   args, kwargs \u001b[39m=\u001b[39m _convert_variables_to_tensors(args, kwargs)\n\u001b[0;32m--> 407\u001b[0m args, kwargs \u001b[39m=\u001b[39m \u001b[39mself\u001b[39;49m\u001b[39m.\u001b[39;49mbind_function_inputs(args, kwargs)\n\u001b[1;32m    408\u001b[0m args, kwargs \u001b[39m=\u001b[39m cast_inputs(args, kwargs, \u001b[39mself\u001b[39m\u001b[39m.\u001b[39minput_signature)\n\u001b[1;32m    409\u001b[0m filtered_flat_args \u001b[39m=\u001b[39m filter_function_inputs(args, kwargs)\n",
      "File \u001b[0;32m/usr/local/lib/python3.8/dist-packages/tensorflow/python/eager/polymorphic_function/function_spec.py:425\u001b[0m, in \u001b[0;36mFunctionSpec.bind_function_inputs\u001b[0;34m(self, args, kwargs)\u001b[0m\n\u001b[1;32m    419\u001b[0m   \u001b[39mraise\u001b[39;00m \u001b[39mValueError\u001b[39;00m(\u001b[39mf\u001b[39m\u001b[39m\"\u001b[39m\u001b[39mName collision after sanitization. Please rename \u001b[39m\u001b[39m\"\u001b[39m\n\u001b[1;32m    420\u001b[0m                    \u001b[39mf\u001b[39m\u001b[39m\"\u001b[39m\u001b[39mtf.function input parameters. Original: \u001b[39m\u001b[39m\"\u001b[39m\n\u001b[1;32m    421\u001b[0m                    \u001b[39mf\u001b[39m\u001b[39m\"\u001b[39m\u001b[39m{\u001b[39;00m\u001b[39msorted\u001b[39m(kwargs\u001b[39m.\u001b[39mkeys())\u001b[39m}\u001b[39;00m\u001b[39m, Sanitized: \u001b[39m\u001b[39m\"\u001b[39m\n\u001b[1;32m    422\u001b[0m                    \u001b[39mf\u001b[39m\u001b[39m\"\u001b[39m\u001b[39m{\u001b[39;00m\u001b[39msorted\u001b[39m(sanitized_kwargs\u001b[39m.\u001b[39mkeys())\u001b[39m}\u001b[39;00m\u001b[39m\"\u001b[39m)\n\u001b[1;32m    424\u001b[0m \u001b[39mtry\u001b[39;00m:\n\u001b[0;32m--> 425\u001b[0m   bound_arguments \u001b[39m=\u001b[39m \u001b[39mself\u001b[39;49m\u001b[39m.\u001b[39;49mfunction_type\u001b[39m.\u001b[39;49mbind_with_defaults(\n\u001b[1;32m    426\u001b[0m       args, sanitized_kwargs, \u001b[39mself\u001b[39;49m\u001b[39m.\u001b[39;49mdefault_values)\n\u001b[1;32m    427\u001b[0m \u001b[39mexcept\u001b[39;00m \u001b[39mException\u001b[39;00m \u001b[39mas\u001b[39;00m e:\n\u001b[1;32m    428\u001b[0m   \u001b[39mraise\u001b[39;00m \u001b[39mTypeError\u001b[39;00m(\n\u001b[1;32m    429\u001b[0m       \u001b[39mf\u001b[39m\u001b[39m\"\u001b[39m\u001b[39mBinding inputs to tf.function `\u001b[39m\u001b[39m{\u001b[39;00m\u001b[39mself\u001b[39m\u001b[39m.\u001b[39m_name\u001b[39m}\u001b[39;00m\u001b[39m` failed due to `\u001b[39m\u001b[39m{\u001b[39;00me\u001b[39m}\u001b[39;00m\u001b[39m`.\u001b[39m\u001b[39m\"\u001b[39m\n\u001b[1;32m    430\u001b[0m       \u001b[39mf\u001b[39m\u001b[39m\"\u001b[39m\u001b[39mReceived args: \u001b[39m\u001b[39m{\u001b[39;00margs\u001b[39m}\u001b[39;00m\u001b[39m and kwargs: \u001b[39m\u001b[39m{\u001b[39;00msanitized_kwargs\u001b[39m}\u001b[39;00m\u001b[39m for signature:\u001b[39m\u001b[39m\"\u001b[39m\n\u001b[1;32m    431\u001b[0m       \u001b[39mf\u001b[39m\u001b[39m\"\u001b[39m\u001b[39m \u001b[39m\u001b[39m{\u001b[39;00m\u001b[39mself\u001b[39m\u001b[39m.\u001b[39mfunction_type\u001b[39m}\u001b[39;00m\u001b[39m.\u001b[39m\u001b[39m\"\u001b[39m\n\u001b[1;32m    432\u001b[0m   ) \u001b[39mfrom\u001b[39;00m \u001b[39me\u001b[39;00m\n",
      "File \u001b[0;32m/usr/local/lib/python3.8/dist-packages/tensorflow/core/function/polymorphism/function_type.py:223\u001b[0m, in \u001b[0;36mFunctionType.bind_with_defaults\u001b[0;34m(self, args, kwargs, default_values)\u001b[0m\n\u001b[1;32m    221\u001b[0m \u001b[39mdef\u001b[39;00m \u001b[39mbind_with_defaults\u001b[39m(\u001b[39mself\u001b[39m, args, kwargs, default_values):\n\u001b[1;32m    222\u001b[0m \u001b[39m  \u001b[39m\u001b[39m\"\"\"Returns BoundArguments with default values filled in.\"\"\"\u001b[39;00m\n\u001b[0;32m--> 223\u001b[0m   bound_arguments \u001b[39m=\u001b[39m \u001b[39mself\u001b[39;49m\u001b[39m.\u001b[39;49mbind(\u001b[39m*\u001b[39;49margs, \u001b[39m*\u001b[39;49m\u001b[39m*\u001b[39;49mkwargs)\n\u001b[1;32m    224\u001b[0m   bound_arguments\u001b[39m.\u001b[39mapply_defaults()\n\u001b[1;32m    226\u001b[0m   with_default_args \u001b[39m=\u001b[39m collections\u001b[39m.\u001b[39mOrderedDict()\n",
      "File \u001b[0;32m/usr/lib/python3.8/inspect.py:3037\u001b[0m, in \u001b[0;36mSignature.bind\u001b[0;34m(self, *args, **kwargs)\u001b[0m\n\u001b[1;32m   3032\u001b[0m \u001b[39mdef\u001b[39;00m \u001b[39mbind\u001b[39m(\u001b[39mself\u001b[39m, \u001b[39m/\u001b[39m, \u001b[39m*\u001b[39margs, \u001b[39m*\u001b[39m\u001b[39m*\u001b[39mkwargs):\n\u001b[1;32m   3033\u001b[0m \u001b[39m    \u001b[39m\u001b[39m\"\"\"Get a BoundArguments object, that maps the passed `args`\u001b[39;00m\n\u001b[1;32m   3034\u001b[0m \u001b[39m    and `kwargs` to the function's signature.  Raises `TypeError`\u001b[39;00m\n\u001b[1;32m   3035\u001b[0m \u001b[39m    if the passed arguments can not be bound.\u001b[39;00m\n\u001b[1;32m   3036\u001b[0m \u001b[39m    \"\"\"\u001b[39;00m\n\u001b[0;32m-> 3037\u001b[0m     \u001b[39mreturn\u001b[39;00m \u001b[39mself\u001b[39;49m\u001b[39m.\u001b[39;49m_bind(args, kwargs)\n",
      "File \u001b[0;32m/usr/lib/python3.8/inspect.py:2985\u001b[0m, in \u001b[0;36mSignature._bind\u001b[0;34m(self, args, kwargs, partial)\u001b[0m\n\u001b[1;32m   2982\u001b[0m \u001b[39m# Now, we iterate through the remaining parameters to process\u001b[39;00m\n\u001b[1;32m   2983\u001b[0m \u001b[39m# keyword arguments\u001b[39;00m\n\u001b[1;32m   2984\u001b[0m kwargs_param \u001b[39m=\u001b[39m \u001b[39mNone\u001b[39;00m\n\u001b[0;32m-> 2985\u001b[0m \u001b[39mfor\u001b[39;00m param \u001b[39min\u001b[39;00m itertools\u001b[39m.\u001b[39;49mchain(parameters_ex, parameters):\n\u001b[1;32m   2986\u001b[0m     \u001b[39mif\u001b[39;00m param\u001b[39m.\u001b[39mkind \u001b[39m==\u001b[39m _VAR_KEYWORD:\n\u001b[1;32m   2987\u001b[0m         \u001b[39m# Memorize that we have a '**kwargs'-like parameter\u001b[39;00m\n\u001b[1;32m   2988\u001b[0m         kwargs_param \u001b[39m=\u001b[39m param\n",
      "\u001b[0;31mKeyboardInterrupt\u001b[0m: "
     ]
    }
   ],
   "source": [
    "#Training loop\n",
    "num_episodes = 50  # Set the number of training episodes\n",
    "batch_size = 32  # Set the batch size for replay\n",
    "total_reward = []\n",
    "for episode in range(num_episodes):\n",
    "    print(\"Episode: \", episode)\n",
    "    state = env.reset()\n",
    "    print(\"prinintg no shaped: \", state)\n",
    "    state = np.reshape(state, state_shape)\n",
    "    done = False\n",
    "    episode_reward = 0\n",
    "    if episode%10 == 0 and episode != 0 :\n",
    "        agent.model.save(\"model_dqn_1_model_{}.h5\".format(episode))\n",
    "    while not done:\n",
    "        print(\"prinintg reshaped state: \", state)\n",
    "        action = agent.act(state)\n",
    "        next_state, reward, done = env.step(action)\n",
    "        next_state = np.reshape(next_state, state_shape)\n",
    "        agent.remember(state, action, reward, next_state, done)\n",
    "        state = next_state\n",
    "        episode_reward += reward\n",
    "        if len(agent.memory) > batch_size:\n",
    "            agent.replay(batch_size)\n",
    "    total_reward.append(episode_reward)"
   ]
  },
  {
   "cell_type": "code",
   "execution_count": 34,
   "metadata": {},
   "outputs": [
    {
     "name": "stdout",
     "output_type": "stream",
     "text": [
      "state:  [3 4]\n",
      "Predicting\n",
      "1/1 [==============================] - 0s 15ms/step\n",
      "[3 3]\n",
      "[3 4]\n",
      "Predicting\n",
      "1/1 [==============================] - 0s 14ms/step\n",
      "[3 3]\n",
      "Predicting\n",
      "1/1 [==============================] - 0s 16ms/step\n",
      "[2 3]\n",
      "Predicting\n",
      "1/1 [==============================] - 0s 13ms/step\n",
      "[2 2]\n",
      "Predicting\n",
      "1/1 [==============================] - 0s 15ms/step\n",
      "[1 2]\n",
      "Predicting\n",
      "1/1 [==============================] - 0s 15ms/step\n",
      "[1 1]\n"
     ]
    }
   ],
   "source": [
    "# Use the trained agent to control the agent in the environment\n",
    "state = env.reset()\n",
    "print(\"state: \", state)\n",
    "state = np.reshape(state, state_shape)\n",
    "done = False\n",
    "while not done:\n",
    "    # print(\"prinintg state: \", state)\n",
    "    action = agent.act(state)\n",
    "    next_state, _, done = env.step(action)\n",
    "    next_state = np.reshape(next_state, state_shape)\n",
    "    # Take action with the agent in the environment\n",
    "    state = next_state\n",
    "    print(state)"
   ]
  },
  {
   "cell_type": "code",
   "execution_count": 30,
   "metadata": {},
   "outputs": [],
   "source": [
    "# agent.model.save(\"model_dqn_pt_to_pt_diff_start.h5\")"
   ]
  },
  {
   "cell_type": "code",
   "execution_count": 31,
   "metadata": {},
   "outputs": [
    {
     "data": {
      "image/png": "[encoded data removed]",
      "text/plain": [
       "<Figure size 640x480 with 1 Axes>"
      ]
     },
     "metadata": {},
     "output_type": "display_data"
    }
   ],
   "source": [
    "import matplotlib.pyplot as plt\n",
    "plt.plot(total_reward)\n",
    "plt.xlabel(\"Episode\")\n",
    "plt.ylabel(\"Reward\")\n",
    "plt.show()"
   ]
  },
  {
   "attachments": {},
   "cell_type": "markdown",
   "metadata": {},
   "source": [
    "TESTING THE MODEL "
   ]
  },
  {
   "cell_type": "code",
   "execution_count": 9,
   "metadata": {},
   "outputs": [],
   "source": [
    "#Define the DQN agent for TESTING\n",
    "class DQNAgent_test:\n",
    "    def __init__(self, state_shape, action_space):\n",
    "        self.state_shape = state_shape\n",
    "        self.action_space = action_space\n",
    "        self.memory = []\n",
    "        self.gamma = 0.95  # Discount factor\n",
    "        self.epsilon = 0.9  # Exploration rate\n",
    "        self.epsilon_decay = 0.995  # Decay rate for exploration rate\n",
    "        self.epsilon_min = 0.01  # Minimum exploration rate\n",
    "        self.model = load_model('model_dqn_pt_to_pt_diff_start.h5')\n",
    "        # while testing a different model has to be loaded instead of creating a new dqn model \n",
    "        # so i created a new DQNAgent_test clas ony for testing \n",
    "\n",
    "    def remember(self, state, action, reward, next_state, done):\n",
    "        self.memory.append((state, action, reward, next_state, done))\n",
    "\n",
    "    def act(self, state):\n",
    "        if np.random.rand() < self.epsilon:\n",
    "            return np.random.choice(self.action_space)\n",
    "        # print(\"state in action: \",state)\n",
    "        state = np.reshape(state, self.state_shape)\n",
    "        print(\"prinintg rereshaped state: \", state)\n",
    "        state = tf.convert_to_tensor(state)\n",
    "        state = tf.expand_dims(state, 0)\n",
    "        print(\"Predicting\")\n",
    "        q_values = self.model.predict(state)\n",
    "        return np.argmax(q_values[0])\n",
    "\n",
    "    def replay(self, batch_size):\n",
    "        if len(self.memory) < batch_size:\n",
    "            return\n",
    "        # Debug\n",
    "        # print(self.memory)\n",
    "        # batch = np.random.choice(self.memory, batch_size, replace=False)\n",
    "        batch_ch = np.random.choice(len(self.memory), batch_size, replace=False)\n",
    "        batch = [self.memory[i] for i in batch_ch]\n",
    "        for state, action, reward, next_state, done in batch:\n",
    "            state = np.reshape(state, self.state_shape)\n",
    "            next_state = np.reshape(next_state, self.state_shape)\n",
    "            target = reward\n",
    "            if not done:\n",
    "                # print(next_state.shape)\n",
    "                next_state = tf.convert_to_tensor(next_state)\n",
    "                next_state = tf.expand_dims(next_state, 0)\n",
    "                target = reward + self.gamma * np.amax(self.model.predict(next_state)[0])\n",
    "            # print(state.shape)\n",
    "            state = tf.convert_to_tensor(state)\n",
    "            state = tf.expand_dims(state, 0)\n",
    "            print(\"Predicting\")\n",
    "            target_f = self.model.predict(state)\n",
    "            target_f[0][action] = target\n",
    "            # print(state[0], state[1])\n",
    "            print(\"Fitting model\")\n",
    "            self.model.fit(state, target_f, epochs=1, verbose=0)\n",
    "        if self.epsilon > self.epsilon_min:\n",
    "            self.epsilon *= self.epsilon_decay\n"
   ]
  },
  {
   "cell_type": "code",
   "execution_count": 12,
   "metadata": {},
   "outputs": [],
   "source": [
    "# Initialize the environment and agent\n",
    "state_shape = (2,)  # Example state shape, adjust according to your actual state representation # Only x and y coordinates\n",
    "action_space = 4  # Example action space size, adjust according to your actual actions # 4 actions: up, down, left, right\n",
    "agent = DQNAgent_test(2, action_space)\n",
    "env = ENV()"
   ]
  },
  {
   "cell_type": "code",
   "execution_count": 24,
   "metadata": {},
   "outputs": [
    {
     "name": "stdout",
     "output_type": "stream",
     "text": [
      "state:  [10  0]\n",
      "[11  0]\n"
     ]
    }
   ],
   "source": [
    "# Use the trained agent to control the agent in the environment\n",
    "state = env.reset()\n",
    "print(\"state: \", state)\n",
    "state = np.reshape(state, state_shape)\n",
    "done = False\n",
    "while not done:\n",
    "    # print(\"prinintg state: \", state)\n",
    "    action = agent.act(state)\n",
    "    next_state, _, done = env.step(action)\n",
    "    next_state = np.reshape(next_state, state_shape)\n",
    "    # Take action with the agent in the environment\n",
    "    state = next_state\n",
    "    print(state)"
   ]
  }
 ],
 "metadata": {
  "kernelspec": {
   "display_name": "Python 3",
   "language": "python",
   "name": "python3"
  },
  "language_info": {
   "codemirror_mode": {
    "name": "ipython",
    "version": 3
   },
   "file_extension": ".py",
   "mimetype": "text/x-python",
   "name": "python",
   "nbconvert_exporter": "python",
   "pygments_lexer": "ipython3",
   "version": "3.8.10"
  },
  "orig_nbformat": 4
 },
 "nbformat": 4,
 "nbformat_minor": 2
}
